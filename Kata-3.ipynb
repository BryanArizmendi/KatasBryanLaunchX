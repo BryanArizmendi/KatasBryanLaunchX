{
 "cells": [
  {
   "cell_type": "code",
   "execution_count": 3,
   "metadata": {},
   "outputs": [
    {
     "name": "stdout",
     "output_type": "stream",
     "text": [
      "¡Peligro! Se acerca un asteroide\n"
     ]
    }
   ],
   "source": [
    "asteroide = 49\n",
    "if asteroide > 25:\n",
    "    print('¡Peligro! Se acerca un asteroide')\n",
    "else:\n",
    "    print('Todo bajo control')"
   ]
  },
  {
   "cell_type": "code",
   "execution_count": 9,
   "metadata": {},
   "outputs": [
    {
     "name": "stdout",
     "output_type": "stream",
     "text": [
      "Que bonito cielo\n"
     ]
    }
   ],
   "source": [
    "asteroide = 19\n",
    "if asteroide > 20:\n",
    "    print('¡Peligro! Se ve un rayo de luz en el cielo')\n",
    "elif asteroide == 20:\n",
    "    print('¡Peligro! Se ve un rayo de luz en el cielo')\n",
    "else:\n",
    "    print('Que bonito cielo')"
   ]
  },
  {
   "cell_type": "code",
   "execution_count": 16,
   "metadata": {},
   "outputs": [
    {
     "name": "stdout",
     "output_type": "stream",
     "text": [
      "¡Peligro! Se ve un rayo de luz en el cielo\n"
     ]
    }
   ],
   "source": [
    "velocidad = 25\n",
    "tamano = 40\n",
    "if velocidad > 25 and tamano > 25:\n",
    "    print('¡Peligro! Un asteroide se dirige a la tierra')\n",
    "elif velocidad >= 20:\n",
    "    print('¡Peligro! Se ve un rayo de luz en el cielo')\n",
    "elif tamano < 25:\n",
    "    print('Que bonito cielo')\n",
    "else:\n",
    "    print('Que bonito cielo')"
   ]
  }
 ],
 "metadata": {
  "interpreter": {
   "hash": "3b899c8be5e2d8558ea7b293782cfb1eaf1a9eac3a564ef12c68459e6b569190"
  },
  "kernelspec": {
   "display_name": "Python 3.10.2 64-bit",
   "language": "python",
   "name": "python3"
  },
  "language_info": {
   "codemirror_mode": {
    "name": "ipython",
    "version": 3
   },
   "file_extension": ".py",
   "mimetype": "text/x-python",
   "name": "python",
   "nbconvert_exporter": "python",
   "pygments_lexer": "ipython3",
   "version": "3.10.2"
  },
  "orig_nbformat": 4
 },
 "nbformat": 4,
 "nbformat_minor": 2
}
